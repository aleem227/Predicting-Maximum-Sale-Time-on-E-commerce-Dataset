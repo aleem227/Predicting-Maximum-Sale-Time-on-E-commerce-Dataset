{
 "cells": [
  {
   "cell_type": "code",
   "execution_count": 1,
   "metadata": {},
   "outputs": [],
   "source": [
    "import pandas as pd\n",
    "from sklearn.model_selection import train_test_split\n",
    "from sklearn.linear_model import LinearRegression\n",
    "from sklearn.metrics import mean_squared_error\n",
    "\n",
    "# Load the sales data\n",
    "sales_data = pd.read_csv('financial_raw_data.csv')"
   ]
  },
  {
   "cell_type": "code",
   "execution_count": 2,
   "metadata": {},
   "outputs": [
    {
     "data": {
      "text/plain": [
       "Unnamed: 0                                 0\n",
       "transaction                                0\n",
       "product_id                                 0\n",
       "product_name                               0\n",
       "exchange_rate_currency_payout              0\n",
       "source                                     0\n",
       "user_name                                  0\n",
       "user_ucode                                 0\n",
       "commission_currency_code                   0\n",
       "commission_value                           0\n",
       "purchase_approved_date                  2863\n",
       "purchase_commission_as                     0\n",
       "purchase_hotmart_fee_base                  0\n",
       "purchase_hotmart_fee_total                 0\n",
       "purchase_hotmart_fee_currency_code         0\n",
       "purchase_hotmart_fee_fixed                 0\n",
       "purchase_is_subscription                   0\n",
       "purchase_offer_code                        0\n",
       "purchase_offer_payment_mode                0\n",
       "purchase_order_datetime                    0\n",
       "purchase_order_date                        0\n",
       "purchase_order_time                        0\n",
       "purchases_order_time                       0\n",
       "purchase_payment_method                    0\n",
       "purchase_payment_type                      0\n",
       "purchase_payment_installments_number       0\n",
       "purchase_price_currency_code               0\n",
       "purchase_price_value                       0\n",
       "purchase_recurrency_number              5720\n",
       "purchase_status                            0\n",
       "purchase_tracking_source_sck            6669\n",
       "purchase_tracking_source                7130\n",
       "purchase_tracking_external_code         7134\n",
       "purchase_warranty_expire_date           2863\n",
       "buyer_name                                 0\n",
       "buyer_ucode                                0\n",
       "producer_name                           7134\n",
       "producer_ucode                          7056\n",
       "real_conversion_rate                       0\n",
       "total_currency_code                        0\n",
       "total_value                                0\n",
       "fee_currency_code                       3425\n",
       "fee_value                               3425\n",
       "vat_currency_code                          0\n",
       "vat_value                                  0\n",
       "base_currency_code                         0\n",
       "base_value                                 0\n",
       "coupon_code                             6293\n",
       "coupon_value                            6293\n",
       "prompt                                  7134\n",
       "completion                              7134\n",
       "dtype: int64"
      ]
     },
     "execution_count": 2,
     "metadata": {},
     "output_type": "execute_result"
    }
   ],
   "source": [
    "sales_data.isnull().sum()\n"
   ]
  },
  {
   "cell_type": "code",
   "execution_count": null,
   "metadata": {},
   "outputs": [],
   "source": [
    "sales_data = sales_data.dropna(axis=1)"
   ]
  },
  {
   "cell_type": "code",
   "execution_count": 3,
   "metadata": {},
   "outputs": [
    {
     "data": {
      "text/plain": [
       "Unnamed: 0                              0\n",
       "transaction                             0\n",
       "product_id                              0\n",
       "product_name                            0\n",
       "exchange_rate_currency_payout           0\n",
       "source                                  0\n",
       "user_name                               0\n",
       "user_ucode                              0\n",
       "commission_currency_code                0\n",
       "commission_value                        0\n",
       "purchase_commission_as                  0\n",
       "purchase_hotmart_fee_base               0\n",
       "purchase_hotmart_fee_total              0\n",
       "purchase_hotmart_fee_currency_code      0\n",
       "purchase_hotmart_fee_fixed              0\n",
       "purchase_is_subscription                0\n",
       "purchase_offer_code                     0\n",
       "purchase_offer_payment_mode             0\n",
       "purchase_order_datetime                 0\n",
       "purchase_order_date                     0\n",
       "purchase_order_time                     0\n",
       "purchases_order_time                    0\n",
       "purchase_payment_method                 0\n",
       "purchase_payment_type                   0\n",
       "purchase_payment_installments_number    0\n",
       "purchase_price_currency_code            0\n",
       "purchase_price_value                    0\n",
       "purchase_status                         0\n",
       "buyer_name                              0\n",
       "buyer_ucode                             0\n",
       "real_conversion_rate                    0\n",
       "total_currency_code                     0\n",
       "total_value                             0\n",
       "vat_currency_code                       0\n",
       "vat_value                               0\n",
       "base_currency_code                      0\n",
       "base_value                              0\n",
       "dtype: int64"
      ]
     },
     "execution_count": 3,
     "metadata": {},
     "output_type": "execute_result"
    }
   ],
   "source": [
    "sales_data.isnull().sum()"
   ]
  },
  {
   "cell_type": "code",
   "execution_count": 3,
   "metadata": {},
   "outputs": [
    {
     "data": {
      "text/html": [
       "<div>\n",
       "<style scoped>\n",
       "    .dataframe tbody tr th:only-of-type {\n",
       "        vertical-align: middle;\n",
       "    }\n",
       "\n",
       "    .dataframe tbody tr th {\n",
       "        vertical-align: top;\n",
       "    }\n",
       "\n",
       "    .dataframe thead th {\n",
       "        text-align: right;\n",
       "    }\n",
       "</style>\n",
       "<table border=\"1\" class=\"dataframe\">\n",
       "  <thead>\n",
       "    <tr style=\"text-align: right;\">\n",
       "      <th></th>\n",
       "      <th>product_id</th>\n",
       "      <th>purchase_order_date</th>\n",
       "      <th>purchases_order_time</th>\n",
       "    </tr>\n",
       "  </thead>\n",
       "  <tbody>\n",
       "    <tr>\n",
       "      <th>0</th>\n",
       "      <td>1689354</td>\n",
       "      <td>8/29/2022</td>\n",
       "      <td>16:27:08</td>\n",
       "    </tr>\n",
       "    <tr>\n",
       "      <th>1</th>\n",
       "      <td>1689354</td>\n",
       "      <td>8/29/2022</td>\n",
       "      <td>16:27:08</td>\n",
       "    </tr>\n",
       "    <tr>\n",
       "      <th>2</th>\n",
       "      <td>1689354</td>\n",
       "      <td>5/16/2022</td>\n",
       "      <td>1:20:58</td>\n",
       "    </tr>\n",
       "    <tr>\n",
       "      <th>3</th>\n",
       "      <td>1689354</td>\n",
       "      <td>5/16/2022</td>\n",
       "      <td>1:20:58</td>\n",
       "    </tr>\n",
       "    <tr>\n",
       "      <th>4</th>\n",
       "      <td>2383492</td>\n",
       "      <td>10/18/2022</td>\n",
       "      <td>12:58:26</td>\n",
       "    </tr>\n",
       "    <tr>\n",
       "      <th>...</th>\n",
       "      <td>...</td>\n",
       "      <td>...</td>\n",
       "      <td>...</td>\n",
       "    </tr>\n",
       "    <tr>\n",
       "      <th>7129</th>\n",
       "      <td>1679943</td>\n",
       "      <td>11/25/2021</td>\n",
       "      <td>16:26:35</td>\n",
       "    </tr>\n",
       "    <tr>\n",
       "      <th>7130</th>\n",
       "      <td>2196725</td>\n",
       "      <td>7/14/2022</td>\n",
       "      <td>1:04:46</td>\n",
       "    </tr>\n",
       "    <tr>\n",
       "      <th>7131</th>\n",
       "      <td>2196725</td>\n",
       "      <td>7/14/2022</td>\n",
       "      <td>1:04:46</td>\n",
       "    </tr>\n",
       "    <tr>\n",
       "      <th>7132</th>\n",
       "      <td>2196725</td>\n",
       "      <td>7/14/2022</td>\n",
       "      <td>1:04:46</td>\n",
       "    </tr>\n",
       "    <tr>\n",
       "      <th>7133</th>\n",
       "      <td>2196725</td>\n",
       "      <td>7/14/2022</td>\n",
       "      <td>1:04:46</td>\n",
       "    </tr>\n",
       "  </tbody>\n",
       "</table>\n",
       "<p>7134 rows × 3 columns</p>\n",
       "</div>"
      ],
      "text/plain": [
       "      product_id purchase_order_date purchases_order_time\n",
       "0        1689354           8/29/2022             16:27:08\n",
       "1        1689354           8/29/2022             16:27:08\n",
       "2        1689354           5/16/2022              1:20:58\n",
       "3        1689354           5/16/2022              1:20:58\n",
       "4        2383492          10/18/2022             12:58:26\n",
       "...          ...                 ...                  ...\n",
       "7129     1679943          11/25/2021             16:26:35\n",
       "7130     2196725           7/14/2022              1:04:46\n",
       "7131     2196725           7/14/2022              1:04:46\n",
       "7132     2196725           7/14/2022              1:04:46\n",
       "7133     2196725           7/14/2022              1:04:46\n",
       "\n",
       "[7134 rows x 3 columns]"
      ]
     },
     "execution_count": 3,
     "metadata": {},
     "output_type": "execute_result"
    }
   ],
   "source": [
    "sales_data = sales_data.loc[:, ['product_id', 'purchase_order_date','purchases_order_time']]\n",
    "sales_data"
   ]
  },
  {
   "cell_type": "code",
   "execution_count": 5,
   "metadata": {},
   "outputs": [
    {
     "data": {
      "text/plain": [
       "<AxesSubplot:>"
      ]
     },
     "execution_count": 5,
     "metadata": {},
     "output_type": "execute_result"
    },
    {
     "data": {
      "image/png": "[encoded data removed]",
      "text/plain": [
       "<Figure size 640x480 with 1 Axes>"
      ]
     },
     "metadata": {},
     "output_type": "display_data"
    }
   ],
   "source": [
    "sales_data['product_id'].value_counts().plot(kind='barh')"
   ]
  },
  {
   "cell_type": "code",
   "execution_count": 6,
   "metadata": {},
   "outputs": [
    {
     "data": {
      "text/plain": [
       "1689354    1214\n",
       "1816948     862\n",
       "2226145     842\n",
       "1679943     780\n",
       "2308975     736\n",
       "Name: product_id, dtype: int64"
      ]
     },
     "execution_count": 6,
     "metadata": {},
     "output_type": "execute_result"
    }
   ],
   "source": [
    "X_count = sales_data.product_id.value_counts()\n",
    "X_count = X_count[X_count > 500]\n",
    "X_count"
   ]
  },
  {
   "cell_type": "code",
   "execution_count": 7,
   "metadata": {},
   "outputs": [
    {
     "data": {
      "text/plain": [
       "<AxesSubplot:>"
      ]
     },
     "execution_count": 7,
     "metadata": {},
     "output_type": "execute_result"
    },
    {
     "data": {
      "image/png": "[encoded data removed]",
      "text/plain": [
       "<Figure size 640x480 with 1 Axes>"
      ]
     },
     "metadata": {},
     "output_type": "display_data"
    }
   ],
   "source": [
    "X_count.plot(kind='barh')"
   ]
  },
  {
   "cell_type": "code",
   "execution_count": 8,
   "metadata": {},
   "outputs": [
    {
     "data": {
      "text/plain": [
       "(7134, 4)"
      ]
     },
     "execution_count": 8,
     "metadata": {},
     "output_type": "execute_result"
    }
   ],
   "source": [
    "sales_data.shape"
   ]
  },
  {
   "cell_type": "code",
   "execution_count": 9,
   "metadata": {},
   "outputs": [],
   "source": [
    "sales_data_cleaned = sales_data[sales_data['product_id'].isin(X_count[X_count > 500].index)]"
   ]
  },
  {
   "cell_type": "code",
   "execution_count": 10,
   "metadata": {},
   "outputs": [],
   "source": [
    "# sales_data_cleaned.to_csv('sales_data_cleaned.csv',index=None)"
   ]
  },
  {
   "cell_type": "code",
   "execution_count": 12,
   "metadata": {},
   "outputs": [
    {
     "data": {
      "text/plain": [
       "1689354    1214\n",
       "1816948     862\n",
       "2226145     842\n",
       "1679943     780\n",
       "2308975     736\n",
       "Name: product_id, dtype: int64"
      ]
     },
     "execution_count": 12,
     "metadata": {},
     "output_type": "execute_result"
    }
   ],
   "source": [
    "sales_data_cleaned.product_id.value_counts()"
   ]
  },
  {
   "cell_type": "code",
   "execution_count": 17,
   "metadata": {},
   "outputs": [
    {
     "data": {
      "text/plain": [
       "(2334, 4)"
      ]
     },
     "execution_count": 17,
     "metadata": {},
     "output_type": "execute_result"
    }
   ],
   "source": [
    "sales_data_cleaned.shape"
   ]
  },
  {
   "cell_type": "code",
   "execution_count": 18,
   "metadata": {},
   "outputs": [],
   "source": [
    "sales_data_cleaned['selling_datetime'] = pd.to_datetime(sales_data_cleaned['purchase_order_date'] + ' ' + sales_data_cleaned['purchases_order_time'])"
   ]
  },
  {
   "cell_type": "code",
   "execution_count": 19,
   "metadata": {},
   "outputs": [],
   "source": [
    "sales_data_cleaned['hour'] = sales_data_cleaned['selling_datetime'].dt.hour\n",
    "sales_data_cleaned['dayofweek'] = sales_data_cleaned['selling_datetime'].dt.dayofweek"
   ]
  },
  {
   "cell_type": "code",
   "execution_count": 20,
   "metadata": {},
   "outputs": [
    {
     "data": {
      "text/html": [
       "<div>\n",
       "<style scoped>\n",
       "    .dataframe tbody tr th:only-of-type {\n",
       "        vertical-align: middle;\n",
       "    }\n",
       "\n",
       "    .dataframe tbody tr th {\n",
       "        vertical-align: top;\n",
       "    }\n",
       "\n",
       "    .dataframe thead th {\n",
       "        text-align: right;\n",
       "    }\n",
       "</style>\n",
       "<table border=\"1\" class=\"dataframe\">\n",
       "  <thead>\n",
       "    <tr style=\"text-align: right;\">\n",
       "      <th></th>\n",
       "      <th>product_id</th>\n",
       "      <th>purchase_price_value</th>\n",
       "      <th>purchase_order_date</th>\n",
       "      <th>purchases_order_time</th>\n",
       "      <th>selling_datetime</th>\n",
       "      <th>hour</th>\n",
       "      <th>dayofweek</th>\n",
       "    </tr>\n",
       "  </thead>\n",
       "  <tbody>\n",
       "    <tr>\n",
       "      <th>126</th>\n",
       "      <td>2308975</td>\n",
       "      <td>2947.00</td>\n",
       "      <td>2/11/2023</td>\n",
       "      <td>19:36:00</td>\n",
       "      <td>2023-02-11 19:36:00</td>\n",
       "      <td>19</td>\n",
       "      <td>5</td>\n",
       "    </tr>\n",
       "    <tr>\n",
       "      <th>127</th>\n",
       "      <td>2308975</td>\n",
       "      <td>2947.00</td>\n",
       "      <td>2/11/2023</td>\n",
       "      <td>19:36:00</td>\n",
       "      <td>2023-02-11 19:36:00</td>\n",
       "      <td>19</td>\n",
       "      <td>5</td>\n",
       "    </tr>\n",
       "    <tr>\n",
       "      <th>128</th>\n",
       "      <td>2308975</td>\n",
       "      <td>2947.00</td>\n",
       "      <td>2/11/2023</td>\n",
       "      <td>19:36:00</td>\n",
       "      <td>2023-02-11 19:36:00</td>\n",
       "      <td>19</td>\n",
       "      <td>5</td>\n",
       "    </tr>\n",
       "    <tr>\n",
       "      <th>129</th>\n",
       "      <td>2308975</td>\n",
       "      <td>2947.00</td>\n",
       "      <td>2/11/2023</td>\n",
       "      <td>19:36:00</td>\n",
       "      <td>2023-02-11 19:36:00</td>\n",
       "      <td>19</td>\n",
       "      <td>5</td>\n",
       "    </tr>\n",
       "    <tr>\n",
       "      <th>130</th>\n",
       "      <td>2308975</td>\n",
       "      <td>2947.00</td>\n",
       "      <td>2/5/2023</td>\n",
       "      <td>20:19:17</td>\n",
       "      <td>2023-02-05 20:19:17</td>\n",
       "      <td>20</td>\n",
       "      <td>6</td>\n",
       "    </tr>\n",
       "    <tr>\n",
       "      <th>...</th>\n",
       "      <td>...</td>\n",
       "      <td>...</td>\n",
       "      <td>...</td>\n",
       "      <td>...</td>\n",
       "      <td>...</td>\n",
       "      <td>...</td>\n",
       "      <td>...</td>\n",
       "    </tr>\n",
       "    <tr>\n",
       "      <th>7011</th>\n",
       "      <td>2308975</td>\n",
       "      <td>2446.89</td>\n",
       "      <td>2/5/2023</td>\n",
       "      <td>23:53:20</td>\n",
       "      <td>2023-02-05 23:53:20</td>\n",
       "      <td>23</td>\n",
       "      <td>6</td>\n",
       "    </tr>\n",
       "    <tr>\n",
       "      <th>7012</th>\n",
       "      <td>2308975</td>\n",
       "      <td>2446.89</td>\n",
       "      <td>2/5/2023</td>\n",
       "      <td>19:36:33</td>\n",
       "      <td>2023-02-05 19:36:33</td>\n",
       "      <td>19</td>\n",
       "      <td>6</td>\n",
       "    </tr>\n",
       "    <tr>\n",
       "      <th>7013</th>\n",
       "      <td>2308975</td>\n",
       "      <td>2446.89</td>\n",
       "      <td>2/5/2023</td>\n",
       "      <td>19:36:33</td>\n",
       "      <td>2023-02-05 19:36:33</td>\n",
       "      <td>19</td>\n",
       "      <td>6</td>\n",
       "    </tr>\n",
       "    <tr>\n",
       "      <th>7014</th>\n",
       "      <td>2308975</td>\n",
       "      <td>2446.89</td>\n",
       "      <td>2/5/2023</td>\n",
       "      <td>19:36:33</td>\n",
       "      <td>2023-02-05 19:36:33</td>\n",
       "      <td>19</td>\n",
       "      <td>6</td>\n",
       "    </tr>\n",
       "    <tr>\n",
       "      <th>7015</th>\n",
       "      <td>2308975</td>\n",
       "      <td>2446.89</td>\n",
       "      <td>2/5/2023</td>\n",
       "      <td>19:36:33</td>\n",
       "      <td>2023-02-05 19:36:33</td>\n",
       "      <td>19</td>\n",
       "      <td>6</td>\n",
       "    </tr>\n",
       "  </tbody>\n",
       "</table>\n",
       "<p>2334 rows × 7 columns</p>\n",
       "</div>"
      ],
      "text/plain": [
       "      product_id  purchase_price_value purchase_order_date  \\\n",
       "126      2308975               2947.00           2/11/2023   \n",
       "127      2308975               2947.00           2/11/2023   \n",
       "128      2308975               2947.00           2/11/2023   \n",
       "129      2308975               2947.00           2/11/2023   \n",
       "130      2308975               2947.00            2/5/2023   \n",
       "...          ...                   ...                 ...   \n",
       "7011     2308975               2446.89            2/5/2023   \n",
       "7012     2308975               2446.89            2/5/2023   \n",
       "7013     2308975               2446.89            2/5/2023   \n",
       "7014     2308975               2446.89            2/5/2023   \n",
       "7015     2308975               2446.89            2/5/2023   \n",
       "\n",
       "     purchases_order_time    selling_datetime  hour  dayofweek  \n",
       "126              19:36:00 2023-02-11 19:36:00    19          5  \n",
       "127              19:36:00 2023-02-11 19:36:00    19          5  \n",
       "128              19:36:00 2023-02-11 19:36:00    19          5  \n",
       "129              19:36:00 2023-02-11 19:36:00    19          5  \n",
       "130              20:19:17 2023-02-05 20:19:17    20          6  \n",
       "...                   ...                 ...   ...        ...  \n",
       "7011             23:53:20 2023-02-05 23:53:20    23          6  \n",
       "7012             19:36:33 2023-02-05 19:36:33    19          6  \n",
       "7013             19:36:33 2023-02-05 19:36:33    19          6  \n",
       "7014             19:36:33 2023-02-05 19:36:33    19          6  \n",
       "7015             19:36:33 2023-02-05 19:36:33    19          6  \n",
       "\n",
       "[2334 rows x 7 columns]"
      ]
     },
     "execution_count": 20,
     "metadata": {},
     "output_type": "execute_result"
    }
   ],
   "source": [
    "sales_data_cleaned"
   ]
  },
  {
   "cell_type": "code",
   "execution_count": 21,
   "metadata": {},
   "outputs": [],
   "source": [
    "# sales_data_cleaned = sales_data_cleaned.append(sales_data_cleaned, ignore_index = True)\n",
    "# sales_data_cleaned = sales_data_cleaned.append(sales_data_cleaned, ignore_index = True)\n",
    "# sales_data_cleaned = sales_data_cleaned.append(sales_data_cleaned, ignore_index = True)"
   ]
  },
  {
   "cell_type": "code",
   "execution_count": 22,
   "metadata": {},
   "outputs": [],
   "source": [
    "from sklearn.utils import shuffle\n",
    "\n",
    "sales_data_cleaned = shuffle(sales_data_cleaned)"
   ]
  },
  {
   "cell_type": "code",
   "execution_count": 23,
   "metadata": {},
   "outputs": [
    {
     "data": {
      "text/html": [
       "<div>\n",
       "<style scoped>\n",
       "    .dataframe tbody tr th:only-of-type {\n",
       "        vertical-align: middle;\n",
       "    }\n",
       "\n",
       "    .dataframe tbody tr th {\n",
       "        vertical-align: top;\n",
       "    }\n",
       "\n",
       "    .dataframe thead th {\n",
       "        text-align: right;\n",
       "    }\n",
       "</style>\n",
       "<table border=\"1\" class=\"dataframe\">\n",
       "  <thead>\n",
       "    <tr style=\"text-align: right;\">\n",
       "      <th></th>\n",
       "      <th>product_id</th>\n",
       "      <th>purchase_price_value</th>\n",
       "      <th>purchase_order_date</th>\n",
       "      <th>purchases_order_time</th>\n",
       "      <th>selling_datetime</th>\n",
       "      <th>hour</th>\n",
       "      <th>dayofweek</th>\n",
       "    </tr>\n",
       "  </thead>\n",
       "  <tbody>\n",
       "    <tr>\n",
       "      <th>3722</th>\n",
       "      <td>1816948</td>\n",
       "      <td>714.96</td>\n",
       "      <td>11/14/2022</td>\n",
       "      <td>17:12:00</td>\n",
       "      <td>2022-11-14 17:12:00</td>\n",
       "      <td>17</td>\n",
       "      <td>0</td>\n",
       "    </tr>\n",
       "    <tr>\n",
       "      <th>1891</th>\n",
       "      <td>1689354</td>\n",
       "      <td>597.00</td>\n",
       "      <td>5/18/2022</td>\n",
       "      <td>22:41:10</td>\n",
       "      <td>2022-05-18 22:41:10</td>\n",
       "      <td>22</td>\n",
       "      <td>2</td>\n",
       "    </tr>\n",
       "    <tr>\n",
       "      <th>2482</th>\n",
       "      <td>1816948</td>\n",
       "      <td>99.50</td>\n",
       "      <td>10/13/2022</td>\n",
       "      <td>14:35:14</td>\n",
       "      <td>2022-10-13 14:35:14</td>\n",
       "      <td>14</td>\n",
       "      <td>3</td>\n",
       "    </tr>\n",
       "    <tr>\n",
       "      <th>6052</th>\n",
       "      <td>2226145</td>\n",
       "      <td>1195.08</td>\n",
       "      <td>10/27/2022</td>\n",
       "      <td>00:44:49</td>\n",
       "      <td>2022-10-27 00:44:49</td>\n",
       "      <td>0</td>\n",
       "      <td>3</td>\n",
       "    </tr>\n",
       "    <tr>\n",
       "      <th>3627</th>\n",
       "      <td>1816948</td>\n",
       "      <td>714.96</td>\n",
       "      <td>3/9/2023</td>\n",
       "      <td>01:15:04</td>\n",
       "      <td>2023-03-09 01:15:04</td>\n",
       "      <td>1</td>\n",
       "      <td>3</td>\n",
       "    </tr>\n",
       "    <tr>\n",
       "      <th>...</th>\n",
       "      <td>...</td>\n",
       "      <td>...</td>\n",
       "      <td>...</td>\n",
       "      <td>...</td>\n",
       "      <td>...</td>\n",
       "      <td>...</td>\n",
       "      <td>...</td>\n",
       "    </tr>\n",
       "    <tr>\n",
       "      <th>617</th>\n",
       "      <td>1679943</td>\n",
       "      <td>997.00</td>\n",
       "      <td>6/23/2022</td>\n",
       "      <td>00:23:59</td>\n",
       "      <td>2022-06-23 00:23:59</td>\n",
       "      <td>0</td>\n",
       "      <td>3</td>\n",
       "    </tr>\n",
       "    <tr>\n",
       "      <th>6955</th>\n",
       "      <td>2308975</td>\n",
       "      <td>2446.89</td>\n",
       "      <td>2/6/2023</td>\n",
       "      <td>14:03:14</td>\n",
       "      <td>2023-02-06 14:03:14</td>\n",
       "      <td>14</td>\n",
       "      <td>0</td>\n",
       "    </tr>\n",
       "    <tr>\n",
       "      <th>6199</th>\n",
       "      <td>2226145</td>\n",
       "      <td>1195.08</td>\n",
       "      <td>10/27/2022</td>\n",
       "      <td>01:59:26</td>\n",
       "      <td>2022-10-27 01:59:26</td>\n",
       "      <td>1</td>\n",
       "      <td>3</td>\n",
       "    </tr>\n",
       "    <tr>\n",
       "      <th>2342</th>\n",
       "      <td>1689354</td>\n",
       "      <td>397.00</td>\n",
       "      <td>10/6/2021</td>\n",
       "      <td>23:48:13</td>\n",
       "      <td>2021-10-06 23:48:13</td>\n",
       "      <td>23</td>\n",
       "      <td>2</td>\n",
       "    </tr>\n",
       "    <tr>\n",
       "      <th>6097</th>\n",
       "      <td>2226145</td>\n",
       "      <td>1195.08</td>\n",
       "      <td>8/10/2022</td>\n",
       "      <td>23:58:23</td>\n",
       "      <td>2022-08-10 23:58:23</td>\n",
       "      <td>23</td>\n",
       "      <td>2</td>\n",
       "    </tr>\n",
       "  </tbody>\n",
       "</table>\n",
       "<p>2334 rows × 7 columns</p>\n",
       "</div>"
      ],
      "text/plain": [
       "      product_id  purchase_price_value purchase_order_date  \\\n",
       "3722     1816948                714.96          11/14/2022   \n",
       "1891     1689354                597.00           5/18/2022   \n",
       "2482     1816948                 99.50          10/13/2022   \n",
       "6052     2226145               1195.08          10/27/2022   \n",
       "3627     1816948                714.96            3/9/2023   \n",
       "...          ...                   ...                 ...   \n",
       "617      1679943                997.00           6/23/2022   \n",
       "6955     2308975               2446.89            2/6/2023   \n",
       "6199     2226145               1195.08          10/27/2022   \n",
       "2342     1689354                397.00           10/6/2021   \n",
       "6097     2226145               1195.08           8/10/2022   \n",
       "\n",
       "     purchases_order_time    selling_datetime  hour  dayofweek  \n",
       "3722             17:12:00 2022-11-14 17:12:00    17          0  \n",
       "1891             22:41:10 2022-05-18 22:41:10    22          2  \n",
       "2482             14:35:14 2022-10-13 14:35:14    14          3  \n",
       "6052             00:44:49 2022-10-27 00:44:49     0          3  \n",
       "3627             01:15:04 2023-03-09 01:15:04     1          3  \n",
       "...                   ...                 ...   ...        ...  \n",
       "617              00:23:59 2022-06-23 00:23:59     0          3  \n",
       "6955             14:03:14 2023-02-06 14:03:14    14          0  \n",
       "6199             01:59:26 2022-10-27 01:59:26     1          3  \n",
       "2342             23:48:13 2021-10-06 23:48:13    23          2  \n",
       "6097             23:58:23 2022-08-10 23:58:23    23          2  \n",
       "\n",
       "[2334 rows x 7 columns]"
      ]
     },
     "execution_count": 23,
     "metadata": {},
     "output_type": "execute_result"
    }
   ],
   "source": [
    "sales_data_cleaned"
   ]
  },
  {
   "cell_type": "code",
   "execution_count": 24,
   "metadata": {},
   "outputs": [],
   "source": [
    "X = sales_data_cleaned[['product_id']]\n",
    "y = sales_data_cleaned[['hour', 'dayofweek']]"
   ]
  },
  {
   "cell_type": "code",
   "execution_count": 25,
   "metadata": {},
   "outputs": [
    {
     "data": {
      "text/html": [
       "<div>\n",
       "<style scoped>\n",
       "    .dataframe tbody tr th:only-of-type {\n",
       "        vertical-align: middle;\n",
       "    }\n",
       "\n",
       "    .dataframe tbody tr th {\n",
       "        vertical-align: top;\n",
       "    }\n",
       "\n",
       "    .dataframe thead th {\n",
       "        text-align: right;\n",
       "    }\n",
       "</style>\n",
       "<table border=\"1\" class=\"dataframe\">\n",
       "  <thead>\n",
       "    <tr style=\"text-align: right;\">\n",
       "      <th></th>\n",
       "      <th>product_id</th>\n",
       "    </tr>\n",
       "  </thead>\n",
       "  <tbody>\n",
       "    <tr>\n",
       "      <th>3722</th>\n",
       "      <td>1816948</td>\n",
       "    </tr>\n",
       "    <tr>\n",
       "      <th>1891</th>\n",
       "      <td>1689354</td>\n",
       "    </tr>\n",
       "    <tr>\n",
       "      <th>2482</th>\n",
       "      <td>1816948</td>\n",
       "    </tr>\n",
       "    <tr>\n",
       "      <th>6052</th>\n",
       "      <td>2226145</td>\n",
       "    </tr>\n",
       "    <tr>\n",
       "      <th>3627</th>\n",
       "      <td>1816948</td>\n",
       "    </tr>\n",
       "  </tbody>\n",
       "</table>\n",
       "</div>"
      ],
      "text/plain": [
       "      product_id\n",
       "3722     1816948\n",
       "1891     1689354\n",
       "2482     1816948\n",
       "6052     2226145\n",
       "3627     1816948"
      ]
     },
     "execution_count": 25,
     "metadata": {},
     "output_type": "execute_result"
    }
   ],
   "source": [
    "X.head()"
   ]
  },
  {
   "cell_type": "code",
   "execution_count": 26,
   "metadata": {},
   "outputs": [
    {
     "data": {
      "text/plain": [
       "3722    17\n",
       "1891    22\n",
       "2482    14\n",
       "6052     0\n",
       "3627     1\n",
       "Name: hour, dtype: int64"
      ]
     },
     "execution_count": 26,
     "metadata": {},
     "output_type": "execute_result"
    }
   ],
   "source": [
    "y_hour = y['hour']\n",
    "y_hour.head()"
   ]
  },
  {
   "cell_type": "code",
   "execution_count": 27,
   "metadata": {},
   "outputs": [
    {
     "data": {
      "text/plain": [
       "3722    0\n",
       "1891    2\n",
       "2482    3\n",
       "6052    3\n",
       "3627    3\n",
       "       ..\n",
       "617     3\n",
       "6955    0\n",
       "6199    3\n",
       "2342    2\n",
       "6097    2\n",
       "Name: dayofweek, Length: 2334, dtype: int64"
      ]
     },
     "execution_count": 27,
     "metadata": {},
     "output_type": "execute_result"
    }
   ],
   "source": [
    "y_dayofweek = y.dayofweek\n",
    "y_dayofweek"
   ]
  },
  {
   "cell_type": "code",
   "execution_count": 28,
   "metadata": {},
   "outputs": [],
   "source": [
    "X_train, X_test, y_hour_train, y_hour_test = train_test_split(X, y_hour, test_size=0.1, random_state=42)"
   ]
  },
  {
   "cell_type": "code",
   "execution_count": 29,
   "metadata": {},
   "outputs": [],
   "source": [
    "X_train, X_test, y_dow_train, y_dow_test = train_test_split(X, y_dayofweek, test_size=0.1, random_state=42)"
   ]
  },
  {
   "cell_type": "code",
   "execution_count": 30,
   "metadata": {},
   "outputs": [
    {
     "data": {
      "text/plain": [
       "GradientBoostingRegressor(random_state=42)"
      ]
     },
     "execution_count": 30,
     "metadata": {},
     "output_type": "execute_result"
    }
   ],
   "source": [
    "from sklearn.ensemble import RandomForestRegressor, GradientBoostingRegressor\n",
    "model = GradientBoostingRegressor(random_state=42)\n",
    "model.fit(X_train, y_hour_train)"
   ]
  },
  {
   "cell_type": "code",
   "execution_count": 31,
   "metadata": {},
   "outputs": [
    {
     "data": {
      "text/plain": [
       "GradientBoostingRegressor(random_state=42)"
      ]
     },
     "execution_count": 31,
     "metadata": {},
     "output_type": "execute_result"
    }
   ],
   "source": [
    "from sklearn.ensemble import RandomForestRegressor, GradientBoostingRegressor\n",
    "model1 = GradientBoostingRegressor(random_state=42)\n",
    "model1.fit(X_train, y_dow_train)"
   ]
  },
  {
   "cell_type": "code",
   "execution_count": 32,
   "metadata": {},
   "outputs": [
    {
     "name": "stdout",
     "output_type": "stream",
     "text": [
      "Maximum sale on the Hour: 11\n",
      "Maximum Sale of the Day of the week: 2\n"
     ]
    },
    {
     "name": "stderr",
     "output_type": "stream",
     "text": [
      "C:\\Users\\aleem\\AppData\\Roaming\\Python\\Python37\\site-packages\\sklearn\\base.py:451: UserWarning: X does not have valid feature names, but GradientBoostingRegressor was fitted with feature names\n",
      "  \"X does not have valid feature names, but\"\n",
      "C:\\Users\\aleem\\AppData\\Roaming\\Python\\Python37\\site-packages\\sklearn\\base.py:451: UserWarning: X does not have valid feature names, but GradientBoostingRegressor was fitted with feature names\n",
      "  \"X does not have valid feature names, but\"\n"
     ]
    }
   ],
   "source": [
    "import numpy as np\n",
    "product_id = input('Enter the Product ID (Format: 7- Digit (XXXXXXX) ): ')\n",
    "\n",
    "features = np.array([[product_id]])\n",
    "\n",
    "print(f'Maximum sale on the Hour: {int(model.predict(features)[0])}')\n",
    "print(f'Maximum Sale of the Day of the week: {int(model1.predict(features)[0])}')"
   ]
  },
  {
   "cell_type": "code",
   "execution_count": null,
   "metadata": {},
   "outputs": [],
   "source": []
  }
 ],
 "metadata": {
  "kernelspec": {
   "display_name": "Python 3",
   "language": "python",
   "name": "python3"
  },
  "language_info": {
   "codemirror_mode": {
    "name": "ipython",
    "version": 3
   },
   "file_extension": ".py",
   "mimetype": "text/x-python",
   "name": "python",
   "nbconvert_exporter": "python",
   "pygments_lexer": "ipython3",
   "version": "3.7.3"
  },
  "orig_nbformat": 4
 },
 "nbformat": 4,
 "nbformat_minor": 2
}
